{
 "cells": [
  {
   "cell_type": "markdown",
   "metadata": {},
   "source": [
    "## Question 1\n",
    "Let $A$, $P$, and $B$ be $n×n$ matrices; \n",
    "and suppose\n",
    "\n",
    "a) $P$ has an inverse \n",
    "\n",
    "b) $P^{-1}AP=B$\n",
    "\n",
    "Show using algebra that if $\\lambda$ is an eigen value of $A$ that $\\lambda$ is an eigen value of $B$.\n",
    "\n",
    "If $P^{-1}AP=B$  then  $A=PBP^{-1}$\n",
    "\n",
    "Since $Av = \\lambda v$\n",
    "\n",
    "Then $PBP^{-1}v = \\lambda v$\n",
    "\n",
    "Multiplying both sides on the left by $P^{-1}$ yelds: $BP^{-1}v = P^{-1}\\lambda v$\n",
    "\n",
    "$=>$ $BP^{-1}v = \\lambda P^{-1}v$"
   ]
  },
  {
   "cell_type": "markdown",
   "metadata": {},
   "source": [
    "## Question 2\n",
    "\n",
    "Suppose $A = QR$, as above. Show that $B = RQ$ is similar to $A$.\n",
    "\n",
    "Matrix $A$ is similar to matrix $B$ if there exists a Matrix $P$ for which $PAP^{-1} = B$\n",
    "\n",
    "If $PAP^{-1} = B$  and $A = QR$  and $B = RQ$\n",
    "\n",
    "Then $BQ^{-1} = R$\n",
    "\n",
    "$A = QR$  $=>$  $A = QBQ^{-1}$\n",
    "\n",
    "Therefore $A$ is similar to $B$"
   ]
  },
  {
   "cell_type": "markdown",
   "metadata": {},
   "source": [
    "## Question 3"
   ]
  },
  {
   "cell_type": "code",
   "execution_count": 13,
   "metadata": {},
   "outputs": [
    {
     "data": {
      "text/plain": [
       "10×10 Array{Float64,2}:\n",
       " 10.0023       -0.120367      0.769        …    1.31462       5.04084\n",
       " -0.0128741     9.00264      -0.202985        -13.8317      -16.4465 \n",
       " -0.0107956     0.00579617    7.91517           6.46135     -24.0845 \n",
       "  0.0022038    -0.000898136  -0.202939          5.07665       6.9218 \n",
       "  1.3263e-6     4.68021e-5    0.00178554        1.95433      14.0435 \n",
       " -2.58729e-8    1.52083e-6   -3.53945e-5   …    7.96405     -11.5514 \n",
       " -4.9252e-10    1.36328e-8   -8.67414e-7        0.534695      9.12208\n",
       " -5.0363e-13    4.49018e-12  -3.72005e-10      -1.06622       1.46907\n",
       " -2.63101e-17   8.91707e-17  -7.7603e-15        1.99998      -3.50659\n",
       "  2.0496e-24   -6.80978e-24   6.00365e-22      -5.84667e-8    1.0    "
      ]
     },
     "execution_count": 13,
     "metadata": {},
     "output_type": "execute_result"
    }
   ],
   "source": [
    "#Creating the 10x10 matrix, your code\n",
    "D = diagm(0 => 1:10)\n",
    "S = (rand(10,10) .- 0.5)*2\n",
    "A = S * D * inv(S)\n",
    "#setting up some varibles\n",
    "i = 0\n",
    "An = A\n",
    "while(i<25) #itterating through the algorithm 25 times\n",
    "    Q, R = qr(An)\n",
    "    An = R * Q\n",
    "    i+=1\n",
    "end\n",
    "An"
   ]
  },
  {
   "cell_type": "code",
   "execution_count": 17,
   "metadata": {},
   "outputs": [
    {
     "name": "stdout",
     "output_type": "stream",
     "text": [
      "The number of entries in the lower triangular part of An that are less than 1e-3 is: 36"
     ]
    }
   ],
   "source": [
    "number = 0\n",
    "for i=1:10\n",
    "    for j=1:10\n",
    "        if j < i\n",
    "            if abs(An[i,j]) < 1e-3\n",
    "                number += 1\n",
    "            end\n",
    "        end\n",
    "    end\n",
    "end\n",
    "@printf(\"The number of entries in the lower triangular part of An that are less than 1e-3 is: %i\", number)"
   ]
  }
 ],
 "metadata": {
  "kernelspec": {
   "display_name": "Julia 0.6.2",
   "language": "julia",
   "name": "julia-0.6"
  },
  "language_info": {
   "file_extension": ".jl",
   "mimetype": "application/julia",
   "name": "julia",
   "version": "0.6.2"
  }
 },
 "nbformat": 4,
 "nbformat_minor": 2
}
